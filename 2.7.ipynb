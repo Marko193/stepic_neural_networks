{
 "cells": [
  {
   "cell_type": "markdown",
   "metadata": {},
   "source": [
    "# Практика 1\n",
    "\n",
    "## Введение\n",
    "\n",
    "На этой неделе было много новой информации. Чтобы всё это запомнилось, необходимо попрактиковаться.\n",
    "\n",
    "В этом нам поможет главный персонаж нашего курса, существо по имени Зюк (Zookee) с далёкой планеты Нейра.\n",
    "Нейряне не так уж сильно отличаются от землян, но для того, чтобы чему-то научиться, им каждый раз приходится формировать набор данных и сознательно программировать небольшую нейросеть в своём мозгу. В этом есть свои плюсы и минусы, но обсуждение этих вопросов выходит далеко за рамки нашего курса.\n",
    "\n",
    "Важно что Зюк очень любит путешествовать и недавно он прилетел к нам.\n",
    "\n",
    "<img src=\"https://raw.githubusercontent.com/stacymiller/stepic_neural_networks_public/master/files/ship_bq.jpg\" width=500/>\n",
    "\n",
    "Мы, конечно, обрадовались его визиту, ведь сразу было видно, что он очень добрый, общительный и, конечно, необычный. Мы договорились, что будем помогать ему собирать данные, а он поделится своим опытом программирования нейросетей. Мы немало удивились, узнав, что многие из его нейросетей написаны на Python. По его выражению, Python - это лучшее из того, что придумали земляне."
   ]
  },
  {
   "cell_type": "markdown",
   "metadata": {},
   "source": [
    "## Перцептрон\n",
    "\n",
    "После небольшой прогулки Зюк сильно проголодался. Кроме того, оказалось, что он очень привередлив в еде:\n",
    "едва попробовав очередное блюдо, он менялся в цвете и вежливо отказывался. К счастью, ему пришлись по нраву яблоки, и вопрос с едой был решен.\n",
    "\n",
    "Однако в наше отсутствие Зюк оставался совершенно беспомощным, поскольку, гуляя в саду, он не мог отличить яблоки от груш (которые были ему совершенно ненавистны), не попробовав их на вкус.\n",
    "\n",
    "<img src=\"https://raw.githubusercontent.com/stacymiller/stepic_neural_networks_public/master/files/apples.jpg\" width=300 />\n",
    "\n",
    "Сформировав путём горьких ошибок небольшой набор данных, Зюк достал какое-то странное устройство и начал программировать перцептрон. Мы вызвались помочь, и он, улыбнувшись, согласился.\n",
    "\n",
    "По его словам, задача должна была оказаться достаточно простой, учитывая что у него в запасе были сети, способные извлекать такие высокоуровневые характеристики, как симметричность и желтизна объекта.\n",
    "\n",
    "### Загрузка данных\n",
    "\n",
    "Первым делом мы решили подготовить всё, что нам может понадобится, и разобраться с набором данных:"
   ]
  },
  {
   "cell_type": "code",
   "execution_count": 1,
   "metadata": {
    "collapsed": true
   },
   "outputs": [],
   "source": [
    "import matplotlib.pyplot as plt\n",
    "import mpl_toolkits.mplot3d as p3\n",
    "import numpy as np\n",
    "import random\n",
    "import time\n",
    "\n",
    "from functools import partial\n",
    "from ipywidgets import interact, RadioButtons, IntSlider, FloatSlider, Dropdown, BoundedFloatText\n",
    "from numpy.linalg import norm\n",
    "\n",
    "random.seed(42) # начальное состояние генератора случайных чисел, чтобы можно было воспроизводить результаты."
   ]
  },
  {
   "cell_type": "code",
   "execution_count": 2,
   "metadata": {},
   "outputs": [
    {
     "data": {
      "image/png": "[encoded data removed]",
      "text/plain": [
       "<matplotlib.figure.Figure at 0x2919b76dfd0>"
      ]
     },
     "metadata": {},
     "output_type": "display_data"
    }
   ],
   "source": [
    "%matplotlib inline\n",
    "data = np.loadtxt(\"data.csv\", delimiter=\",\")\n",
    "pears = data[:, 2] == 1\n",
    "apples = np.logical_not(pears)\n",
    "plt.scatter(data[apples][:, 0], data[apples][:, 1], color = \"red\")\n",
    "plt.scatter(data[pears][:, 0], data[pears][:, 1], color = \"green\")\n",
    "plt.xlabel(\"yellowness\")\n",
    "plt.ylabel(\"symmetry\")\n",
    "plt.show()"
   ]
  },
  {
   "cell_type": "markdown",
   "metadata": {},
   "source": [
    "Данные -  матрица $1000 \\times 3$, в каждой строке указаны желтизна и симметричность очередного фрукта (в первой и второй колонках) и его сортовая принадлежность (третья колонка, 0 - яблоки, 1 - груши)."
   ]
  },
  {
   "cell_type": "markdown",
   "metadata": {},
   "source": [
    "Задача действительно выглядела не очень сложно.\n",
    "\n",
    "Когда данные были загружены, мы захотели впечатлить Зюка своими познаниями и сразу ринулись писать алгоритм обучения перцептрона, однако Зюк остановил нас, напомнив, что сперва нужно решить, какой вообще будет структура модуля, распознающего яблоки и груши. Мы призадумались, и он с ностальгической улыбкой показал нам одну из своих заготовок:"
   ]
  },
  {
   "cell_type": "markdown",
   "metadata": {},
   "source": [
    "# Перцептрон"
   ]
  },
  {
   "cell_type": "code",
   "execution_count": 3,
   "metadata": {
    "collapsed": true
   },
   "outputs": [],
   "source": [
    "class Perceptron:\n",
    "\n",
    "    def __init__(self, w, b):\n",
    "        \"\"\"\n",
    "        Инициализируем наш объект - перцептрон.\n",
    "        w - вектор весов размера (m, 1), где m - количество переменных\n",
    "        b - число\n",
    "        \"\"\"\n",
    "        \n",
    "        self.w = w\n",
    "        self.b = b\n",
    "\n",
    "    def forward_pass(self, single_input):\n",
    "        \"\"\"\n",
    "        Метод рассчитывает ответ перцептрона при предъявлении одного примера\n",
    "        single_input - вектор примера размера (m, 1).\n",
    "        Метод возвращает число (0 или 1) или boolean (True/False)\n",
    "        \"\"\"\n",
    "        \n",
    "        result = 0\n",
    "        for i in range(0, len(self.w)):\n",
    "            result += self.w[i] * single_input[i]\n",
    "        result += self.b\n",
    "        \n",
    "        if result > 0:\n",
    "            return 1\n",
    "        else:\n",
    "            return 0\n",
    "\n",
    "    def vectorized_forward_pass(self, input_matrix):\n",
    "        \"\"\"\n",
    "        Метод рассчитывает ответ перцептрона при предъявлении набора примеров\n",
    "        input_matrix - матрица примеров размера (n, m), каждая строка - отдельный пример,\n",
    "        n - количество примеров, m - количество переменных\n",
    "        Возвращает вертикальный вектор размера (n, 1) с ответами перцептрона\n",
    "        (элементы вектора - boolean или целые числа (0 или 1))\n",
    "        \"\"\"\n",
    "        \n",
    "        return input_matrix.dot(self.w) + self.b > 0\n",
    "    \n",
    "    def train_on_single_example(self, example, y):\n",
    "        \"\"\"\n",
    "        принимает вектор активации входов example формы (m, 1) \n",
    "        и правильный ответ для него (число 0 или 1 или boolean),\n",
    "        обновляет значения весов перцептрона в соответствии с этим примером\n",
    "        и возвращает размер ошибки, которая случилась на этом примере до изменения весов (0 или 1)\n",
    "        (на её основании мы потом построим интересный график)\n",
    "        \"\"\"\n",
    "\n",
    "        y_ = self.vectorized_forward_pass(example.T)[0][0]\n",
    "        dw = y - y_\n",
    "        self.b += dw\n",
    "        self.w += dw * example\n",
    "        return dw"
   ]
  },
  {
   "cell_type": "markdown",
   "metadata": {},
   "source": [
    "Оказалось, что это был первый нейрон, который он запрограммировал сам. Он рассказал, что метод `train_on_single_example` остался без реализации, так как в то время веса ему еще готовила мама. Векторизовать он, как и все дети, не любил, поэтому данный метод тоже не готов.\n",
    "\n",
    "Мы с лёгким нетерпением спросили, можно ли нам что-нибудь запрограммировать. Убедившись, что мы разобрались в приведённом коде, Зюк поставил задачу:\n",
    "\n",
    "### Реализовать метод `vectorized_forward_pass`\n",
    "\n",
    "Это метод, который считает значения активационной функции нейрона. \n",
    "\n",
    "На вход он принимает матрицу активаций размера $n \\times m$ и вектор ответов длины $n$. Каждая строка - отдельный пример. В случае с яблоками и грушами матрица будет размера $n \\times 2$, где $n$ - количество примеров, для которых мы хотим получить решения (но, конечно, когда мы будем проверять ваши решения, у данных может быть и другой размер!).  `vectorized_forward_pass` отдаёт столбец (формы $n\\times 1$) значений активационной функции нейрона для всех переданных ему входных данных. Зюк предупредил, что если мы будем использовать **циклы** (`for`, `while`) или **операторы ветвления** (`if`) - **решение не пройдёт его внутреннюю проверку**.\n",
    "\n",
    "Было что-то занудное в его голосе, но что делать? Видимо, это та цена, которую нужно платить, если хочешь, чтобы тебя поняли.\n",
    "\n",
    "/// Чтобы всё работало - впишите свою реализацию в предоставленный выше шаблон и сдайте функцию на сайте курса, чтобы <br>\n",
    "/// проверить, что решение правильное. Имейте в виду: наши тесты не охватывают всех возможных характеристик, <br>\n",
    "/// поэтому постарайтесь делать качественно, иначе незамеченные ошибки могут накапливаться. <br>\n",
    "/// Не забудьте запустить код в ячейке, иначе Python будет помнить старую версию того, что было написано"
   ]
  },
  {
   "cell_type": "markdown",
   "metadata": {},
   "source": [
    "### Тестирование\n",
    "\n",
    "Мы с непривычки здорово намучились, и у нас назрел вопрос: а так ли нужна эта векторизация для классификации яблок?\n",
    "\n",
    "\\- Смотря насколько вы цените своё время, - задумчиво ответил Зюк, - признаюсь, я и сам уже привык\n",
    "воспринимать векторизацию как что-то само собой разумеющееся, впитанное с молоком матери, как у вас говорят. \n",
    "\n",
    "Вдруг что-то озорное появилось в его глазах, и он весело предложил: \"Так давайте проверим!\".\n",
    "\n",
    "Выхватив пульт управления, Зюк начал что-то быстро печатать. Не прошло и минуты, как он гордо представил нам свои результаты:\n"
   ]
  },
  {
   "cell_type": "code",
   "execution_count": 4,
   "metadata": {
    "collapsed": true
   },
   "outputs": [],
   "source": [
    "def create_perceptron(m):\n",
    "    \"\"\"Создаём перцептрон со случайными весами и m входами\"\"\"\n",
    "    w = np.random.random((m, 1))\n",
    "    return Perceptron(w, 1)"
   ]
  },
  {
   "cell_type": "code",
   "execution_count": 5,
   "metadata": {
    "collapsed": true
   },
   "outputs": [],
   "source": [
    "def test_v_f_p(n, m):\n",
    "    \"\"\"\n",
    "    Расчитывает для перцептрона с m входами\n",
    "    с помощью методов forward_pass и vectorized_forward_pass\n",
    "    n ответов перцептрона на случайных данных.\n",
    "    Возвращает время, затраченное vectorized_forward_pass и forward_pass\n",
    "    на эти расчёты.\n",
    "    \"\"\"\n",
    "    \n",
    "    p = create_perceptron(m)\n",
    "    input_m = np.random.random_sample((n, m))\n",
    "    \n",
    "    start = time.clock()\n",
    "    vec = p.vectorized_forward_pass(input_m)\n",
    "    end = time.clock()\n",
    "    vector_time = end - start\n",
    "    \n",
    "    start = time.clock()\n",
    "    for i in range(0, n):\n",
    "        p.forward_pass(input_m[i]) \n",
    "    end = time.clock()\n",
    "    plain_time = end - start\n",
    "\n",
    "    return [vector_time, plain_time]"
   ]
  },
  {
   "cell_type": "code",
   "execution_count": 7,
   "metadata": {},
   "outputs": [
    {
     "data": {
      "text/plain": [
       "A Jupyter Widget"
      ]
     },
     "metadata": {},
     "output_type": "display_data"
    }
   ],
   "source": [
    "def mean_execution_time(n, m, trials=100):\n",
    "    \"\"\"среднее время выполнения forward_pass и vectorized_forward_pass за trials испытаний\"\"\"\n",
    "    \n",
    "    return np.array([test_v_f_p(m, n) for _ in range(trials)]).mean(axis=0)\n",
    "\n",
    "def plot_mean_execution_time(n, m):\n",
    "    \"\"\"рисует графики среднего времени выполнения forward_pass и vectorized_forward_pass\"\"\"\n",
    "    \n",
    "    mean_vectorized, mean_plain = mean_execution_time(int(n), int(m))\n",
    "    p1 = plt.bar([0], mean_vectorized,  color='g')\n",
    "    p2 = plt.bar([1], mean_plain, color='r')\n",
    "\n",
    "    plt.ylabel(\"Time spent\")\n",
    "    plt.yticks(np.arange(0, mean_plain))\n",
    "\n",
    "    plt.xticks(range(0,1))\n",
    "    plt.legend((\"vectorized\",\"non - vectorized\"))\n",
    "\n",
    "    plt.show()\n",
    "\n",
    "interact(plot_mean_execution_time, \n",
    "            n=RadioButtons(options=[\"1\", \"10\", \"100\"]),\n",
    "            m=RadioButtons(options=[\"1\", \"10\", \"100\"], separator=\" \"));"
   ]
  },
  {
   "cell_type": "markdown",
   "metadata": {},
   "source": [
    "Мы принялись увлечённо экспериментировать, чтобы лучше понять, какова разница во времени работы у векторизованного и не векторизованного вариантов при разных `n` и `m`. Нетрудно заметить, что чем больше у нас данных, тем более впечатляющей эта разница становилась. "
   ]
  },
  {
   "cell_type": "markdown",
   "metadata": {},
   "source": [
    "## Обучение перцептрона\n",
    "\n",
    "Отлично, осталось научить наш перцептрон хорошо различать груши и яблоки - и Зюк сможет гулять в саду, не оставаясь при этом голодным! Давайте напишем код, который, приняв на вход пример и правильный ответ, будет изменять веса в соответствии с правилом обучения перцептрона. Это метод `train_on_single_example`, который вам и нужно будет сейчас реализовать."
   ]
  },
  {
   "cell_type": "code",
   "execution_count": 8,
   "metadata": {
    "collapsed": true
   },
   "outputs": [],
   "source": [
    "class Perceptron:\n",
    "\n",
    "    def __init__(self, w, b):\n",
    "        \"\"\"\n",
    "        Инициализируем наш объект - перцептрон.\n",
    "        w - вектор весов размера (m, 1), где m - количество переменных\n",
    "        b - число\n",
    "        \"\"\"\n",
    "        \n",
    "        self.w = w\n",
    "        self.b = b\n",
    "\n",
    "    def forward_pass(self, single_input):\n",
    "        \"\"\"\n",
    "        Метод рассчитывает ответ перцептрона при предъявлении одного примера\n",
    "        single_input - вектор примера размера (m, 1).\n",
    "        Метод возвращает число (0 или 1) или boolean (True/False)\n",
    "        \"\"\"\n",
    "        \n",
    "        result = 0\n",
    "        for i in range(0, len(self.w)):\n",
    "            result += self.w[i] * single_input[i]\n",
    "        result += self.b\n",
    "        \n",
    "        if result > 0:\n",
    "            return 1\n",
    "        else:\n",
    "            return 0\n",
    "\n",
    "    def vectorized_forward_pass(self, input_matrix):\n",
    "        \"\"\"\n",
    "        Метод рассчитывает ответ перцептрона при предъявлении набора примеров\n",
    "        input_matrix - матрица примеров размера (n, m), каждая строка - отдельный пример,\n",
    "        n - количество примеров, m - количество переменных\n",
    "        Возвращает вертикальный вектор размера (n, 1) с ответами перцептрона\n",
    "        (элементы вектора - boolean или целые числа (0 или 1))\n",
    "        \"\"\"\n",
    "        \n",
    "        return input_matrix.dot(self.w) + self.b > 0\n",
    "    \n",
    "    def train_on_single_example(self, example, y):\n",
    "        \"\"\"\n",
    "        принимает вектор активации входов example формы (m, 1) \n",
    "        и правильный ответ для него (число 0 или 1 или boolean),\n",
    "        обновляет значения весов перцептрона в соответствии с этим примером\n",
    "        и возвращает размер ошибки, которая случилась на этом примере до изменения весов (0 или 1)\n",
    "        (на её основании мы потом построим интересный график)\n",
    "        \"\"\"\n",
    "\n",
    "        y_ = self.vectorized_forward_pass(example.T)[0][0]\n",
    "        dw = y - y_\n",
    "        self.b += dw\n",
    "        self.w += dw * example\n",
    "        return dw\n",
    "    \n",
    "    def train_until_convergence(self, input_matrix, y, max_steps=1e8):\n",
    "        \"\"\"\n",
    "        input_matrix - матрица входов размера (n, m),\n",
    "        y - вектор правильных ответов размера (n, 1) (y[i] - правильный ответ на пример input_matrix[i]),\n",
    "        max_steps - максимальное количество шагов.\n",
    "        Применяем train_on_single_example, пока не перестанем ошибаться или до умопомрачения.\n",
    "        Константа max_steps - наше понимание того, что считать умопомрачением.\n",
    "        \"\"\"\n",
    "        i = 0\n",
    "        errors = 1\n",
    "        while errors and i < max_steps:\n",
    "            i += 1\n",
    "            errors = 0\n",
    "            for example, answer in zip(input_matrix, y):\n",
    "                example = example.reshape((example.size, 1))\n",
    "                error = self.train_on_single_example(example, answer)\n",
    "                errors += int(error)  # int(True) = 1, int(False) = 0, так что можно не делать if"
   ]
  },
  {
   "cell_type": "markdown",
   "metadata": {},
   "source": [
    "## Визуализация обучения\n",
    "\n",
    "Отлично! С вашей помощью у Зюка появился перцептрон, который умеет учиться. В благодарность Зюк подготовил несколько функций, которые помогут посмотреть в динамике на то, как протекает процесс обучения перцептрона. \n",
    "\n",
    "/// В данном коде детально разбираться не обязательно, главное запустить каждую ячейку и посмотреть на анимацию.\n",
    "<br>/// Не забудьте остановить анимацию, иначе подвисание через полчаса-час гарантировано."
   ]
  },
  {
   "cell_type": "code",
   "execution_count": 9,
   "metadata": {
    "collapsed": true
   },
   "outputs": [],
   "source": [
    "def plot_line(coefs):\n",
    "    \"\"\"\n",
    "    рисует разделяющую прямую, соответствующую весам, переданным в coefs = (weights, bias), \n",
    "    где weights - ndarray формы (2, 1), bias - число\n",
    "    \"\"\"\n",
    "    w, bias = coefs\n",
    "    a, b = - w[0][0] / w[1][0], - bias / w[1][0]\n",
    "    xx = np.linspace(*plt.xlim())\n",
    "    line.set_data(xx, a*xx + b)"
   ]
  },
  {
   "cell_type": "code",
   "execution_count": 10,
   "metadata": {
    "collapsed": true
   },
   "outputs": [],
   "source": [
    "def step_by_step_weights(p, input_matrix, y, max_steps=1e6):\n",
    "    \"\"\"\n",
    "    обучает перцептрон последовательно на каждой строчке входных данных, \n",
    "    возвращает обновлённые веса при каждом их изменении\n",
    "    p - объект класса Perceptron\n",
    "    \"\"\"\n",
    "    i = 0\n",
    "    errors = 1\n",
    "    while errors and i < max_steps:\n",
    "        i += 1\n",
    "        errors = 0\n",
    "        for example, answer in zip(input_matrix, y):\n",
    "            example = example.reshape((example.size, 1))\n",
    "            \n",
    "            error = p.train_on_single_example(example, answer)\n",
    "            errors += error  # здесь мы упадём, если вы забыли вернуть размер ошибки из train_on_single_example\n",
    "            if error:  # будем обновлять положение линии только тогда, когда она изменила своё положение\n",
    "                yield p.w, p.b\n",
    "                \n",
    "    for _ in range(20): yield p.w, p.b"
   ]
  },
  {
   "cell_type": "code",
   "execution_count": 12,
   "metadata": {},
   "outputs": [
    {
     "data": {
      "text/plain": [
       "<IPython.core.display.Javascript object>"
      ]
     },
     "metadata": {},
     "output_type": "display_data"
    },
    {
     "data": {
      "text/html": [
       "<img src=\"data:image/png;base64,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\" width=\"432\">"
      ],
      "text/plain": [
       "<IPython.core.display.HTML object>"
      ]
     },
     "metadata": {},
     "output_type": "execute_result"
    }
   ],
   "source": [
    "%matplotlib nbagg\n",
    "\n",
    "np.random.seed(1)\n",
    "fig = plt.figure()\n",
    "plt.scatter(data[apples][:, 0], data[apples][:, 1], color = \"red\", marker=\".\", label=\"Apples\")\n",
    "plt.scatter(data[pears][:, 0], data[pears][:, 1], color = \"green\", marker=\".\", label=\"Pears\")\n",
    "plt.xlabel(\"yellowness\")\n",
    "plt.ylabel(\"symmetry\")\n",
    "line, = plt.plot([], [], color=\"black\", linewidth=2)  # создаём линию, которая будет показывать границу разделения\n",
    "\n",
    "from matplotlib.animation import FuncAnimation\n",
    "\n",
    "perceptron_for_weights_line = create_perceptron(2)  # создаём перцептрон нужной размерности со случайными весами\n",
    "\n",
    "from functools import partial\n",
    "weights_ani = partial(\n",
    "    step_by_step_weights, p=perceptron_for_weights_line, input_matrix=data[:, :-1], y=data[:, -1][:,np.newaxis]\n",
    ")  # про partial почитайте на https://docs.python.org/3/library/functools.html#functools.partial\n",
    "\n",
    "ani = FuncAnimation(fig, func=plot_line, frames=weights_ani, blit=False, interval=10, repeat=True)\n",
    "# если Jupyter не показывает вам анимацию - раскомментируйте строчку ниже и посмотрите видео\n",
    "# ani.save(\"perceptron_seeking_for_solution.mp4\", fps=15)\n",
    "plt.show()\n",
    "\n",
    "## Не забудьте остановить генерацию новых картинок, прежде чем идти дальше (кнопка \"выключить\" в правом верхнем углу графика)"
   ]
  },
  {
   "cell_type": "markdown",
   "metadata": {},
   "source": [
    "Он также подготовил несколько примеров, чтобы проиллюстрировать философию обучения перцептрона, которая не всегда интуитивна.\n",
    "\n",
    "Во-первых, количество неправильно классифицированных примеров не всегда уменьшается. То есть в процессе обучения у перцептрона могут случаться \"взлёты и падения\" - делился мудростью Зюк."
   ]
  },
  {
   "cell_type": "code",
   "execution_count": 13,
   "metadata": {
    "collapsed": true
   },
   "outputs": [],
   "source": [
    "def step_by_step_errors(p, input_matrix, y, max_steps=1e6):\n",
    "    \"\"\"\n",
    "    обучает перцептрон последовательно на каждой строчке входных данных, \n",
    "    на каждом шаге обучения запоминает количество неправильно классифицированных примеров\n",
    "    и возвращает список из этих количеств\n",
    "    \"\"\"\n",
    "    def count_errors():\n",
    "        return np.abs(p.vectorized_forward_pass(input_matrix).astype(np.int) - y).sum()\n",
    "    errors_list = [count_errors()]\n",
    "    i = 0\n",
    "    errors = 1\n",
    "    while errors and i < max_steps:\n",
    "        i += 1\n",
    "        errors = 0\n",
    "        for example, answer in zip(input_matrix, y):\n",
    "            example = example.reshape((example.size, 1))\n",
    "            \n",
    "            error = p.train_on_single_example(example, answer)\n",
    "            errors += error\n",
    "            errors_list.append(count_errors())\n",
    "    return errors_list"
   ]
  },
  {
   "cell_type": "code",
   "execution_count": 14,
   "metadata": {},
   "outputs": [
    {
     "data": {
      "image/png": "[encoded data removed]",
      "text/plain": [
       "<matplotlib.figure.Figure at 0x2dfd848a630>"
      ]
     },
     "metadata": {},
     "output_type": "display_data"
    }
   ],
   "source": [
    "%matplotlib inline\n",
    "perceptron_for_misclassification = create_perceptron(2)\n",
    "errors_list = step_by_step_errors(perceptron_for_misclassification, input_matrix=data[:, :-1], y=data[:, -1][:,np.newaxis])\n",
    "plt.plot(errors_list);\n",
    "plt.ylabel(\"Number of errors\")\n",
    "plt.xlabel(\"Algorithm step number\");"
   ]
  },
  {
   "cell_type": "markdown",
   "metadata": {},
   "source": [
    "Мы испугались, что что-то идёт не так, но Зюк успокоил нас, сказав что такой страшный график - следствие нашей философии. Ведь философия обучения перцептрона в том, что лучше будут становиться веса, а не ответы.\n",
    "\n",
    "\"А как именно веса становятся лучше?\" - вот вопрос, который теперь волновал каждого из нас. Мы решили посмотреть, как перцептрон научился тому, чему он научился. Возьмём тот вектор весов, к которым перцептрон сошёлся, и посмотрим, как изменяется расстояние до него, пока перцептрон учится."
   ]
  },
  {
   "cell_type": "code",
   "execution_count": 15,
   "metadata": {
    "collapsed": true
   },
   "outputs": [],
   "source": [
    "def get_vector(p):\n",
    "    \"\"\"возвращает вектор из всех весов перцептрона, включая смещение\"\"\"\n",
    "    v = np.array(list(p.w.ravel()) + [p.b])\n",
    "    return v"
   ]
  },
  {
   "cell_type": "code",
   "execution_count": 16,
   "metadata": {
    "collapsed": true
   },
   "outputs": [],
   "source": [
    "def step_by_step_distances(p, ideal, input_matrix, y, max_steps=1e6):\n",
    "    \"\"\"обучает перцептрон p и записывает каждое изменение расстояния от текущих весов до ideal\"\"\"\n",
    "    distances = [norm(get_vector(p) - ideal)]\n",
    "    i = 0\n",
    "    errors = 1\n",
    "    while errors and i < max_steps:\n",
    "        i += 1\n",
    "        errors = 0\n",
    "        for example, answer in zip(input_matrix, y):\n",
    "            example = example.reshape((example.size, 1))\n",
    "            \n",
    "            error = p.train_on_single_example(example, answer)\n",
    "            errors += error\n",
    "            if error:\n",
    "                distances.append(norm(get_vector(p) - ideal))\n",
    "    return distances"
   ]
  },
  {
   "cell_type": "code",
   "execution_count": 17,
   "metadata": {},
   "outputs": [
    {
     "data": {
      "image/png": "[encoded data removed]",
      "text/plain": [
       "<matplotlib.figure.Figure at 0x2dfd83db4a8>"
      ]
     },
     "metadata": {},
     "output_type": "display_data"
    }
   ],
   "source": [
    "%matplotlib inline\n",
    "\n",
    "np.random.seed(42)\n",
    "init_weights = np.random.random_sample(3)\n",
    "w, b = init_weights[:-1].reshape((2, 1)), init_weights[-1]\n",
    "ideal_p = Perceptron(w.copy(), b.copy())\n",
    "ideal_p.train_until_convergence(data[:, :-1], data[:, -1][:,np.newaxis])\n",
    "ideal_weights = get_vector(ideal_p)\n",
    "\n",
    "new_p = Perceptron(w.copy(), b.copy())\n",
    "distances = step_by_step_distances(new_p, ideal_weights, data[:, :-1], data[:, -1][:,np.newaxis])\n",
    "\n",
    "plt.xlabel(\"Number of weight updates\")\n",
    "plt.ylabel(\"Distance between good and current weights\")\n",
    "plt.plot(distances);"
   ]
  },
  {
   "cell_type": "markdown",
   "metadata": {},
   "source": [
    "Как и можно было догадаться ещё по тому, как вела себя прямая на нашей анимированной картинке, вектор весов постепенно приближается к множеству хороших весов, хотя тоже \"не всё гладко\". Постарайтесь понять, почему, вспомнив доказательство сходимости перцептрона и понятие \"векторов весов, хороших \"с запасом\"\"."
   ]
  },
  {
   "cell_type": "markdown",
   "metadata": {},
   "source": [
    "# Градиентный спуск"
   ]
  },
  {
   "cell_type": "markdown",
   "metadata": {},
   "source": [
    "Покончив с перцептроном, Зюк несколько торопливо предложил посмотреть, как в подобной ситуации себя проявит логистический нейрон, основанный на градиентном спуске. В ответ на наши недоумевающие взгляды Зюк смущённо объяснил, что очень боится, что ему когда-нибудь попадётся какое-то \"необычное\" яблоко или груша. Тогда данные могут перестать быть линейно разделимыми, и он рискует зависнуть, обучая несходящийся перцептрон. Для взрослого Нейрянина допустить такое - большой позор.\n",
    "\n",
    "Конечно, можно поставить ограничение на число шагов алгоритма... Но если вспомнить, как выглядит график количества ошибок, сразу станет понятно, что мы рискуем получить очень плохой классификатор, если оборвём процесс обучения раньше, чем нужно.\n",
    "\n",
    "Мы пропросили Зюка не подсказывать нам слишком много на этот раз. Всё-таки мы хотим сами научиться программировать нейросети.\n",
    "Зюк вежливо согласился, но настоял, чтобы мы посмотрели на его заготовку. Ключевые моменты он спрятал, предоставив нам возможность попрактиковаться.\n",
    "\n",
    "/// Изучите код и реализуйте пропущенные функции."
   ]
  },
  {
   "cell_type": "code",
   "execution_count": 3,
   "metadata": {
    "collapsed": true
   },
   "outputs": [],
   "source": [
    "## Определим разные полезные функции\n",
    "\n",
    "def sigmoid(x):\n",
    "    \"\"\"сигмоидальная функция, работает и с числами, и с векторами (поэлементно)\"\"\"\n",
    "    return 1 / (1 + np.exp(-x))\n",
    "\n",
    "def sigmoid_prime(x):\n",
    "    \"\"\"производная сигмоидальной функции, работает и с числами, и с векторами (поэлементно)\"\"\"\n",
    "    return sigmoid(x) * (1 - sigmoid(x))"
   ]
  },
  {
   "cell_type": "markdown",
   "metadata": {},
   "source": [
    "Класс Neuron нас немного напугал... Такая махина. Зюк заверил нас, что он только кажется большим. На самом деле можно было всё это написать в три-четыре строчки, но вот понять их - это было бы сложнее. Он также извинился за многословность и неоптимальность реализации, объясняя её тем, что \"на таком удобнее учиться\". Пришлось поверить."
   ]
  },
  {
   "cell_type": "code",
   "execution_count": 4,
   "metadata": {
    "collapsed": true
   },
   "outputs": [],
   "source": [
    "class Neuron:\n",
    "    \n",
    "    def __init__(self, weights, activation_function=sigmoid, activation_function_derivative=sigmoid_prime):\n",
    "        \"\"\"\n",
    "        weights - вертикальный вектор весов нейрона формы (m, 1), weights[0][0] - смещение\n",
    "        activation_function - активационная функция нейрона, сигмоидальная функция по умолчанию\n",
    "        activation_function_derivative - производная активационной функции нейрона\n",
    "        \"\"\"\n",
    "        \n",
    "        assert weights.shape[1] == 1, \"Incorrect weight shape\"\n",
    "        \n",
    "        self.w = weights\n",
    "        self.activation_function = activation_function\n",
    "        self.activation_function_derivative = activation_function_derivative\n",
    "        \n",
    "    def forward_pass(self, single_input):\n",
    "        \"\"\"\n",
    "        активационная функция логистического нейрона\n",
    "        single_input - вектор входов формы (m, 1), \n",
    "        первый элемент вектора single_input - единица (если вы хотите учитывать смещение)\n",
    "        \"\"\"\n",
    "        \n",
    "        result = 0\n",
    "        for i in range(self.w.size):\n",
    "            result += float(self.w[i] * single_input[i])\n",
    "        return self.activation_function(result)\n",
    "    \n",
    "    def summatory(self, input_matrix):\n",
    "        \"\"\"\n",
    "        Вычисляет результат сумматорной функции для каждого примера из input_matrix. \n",
    "        input_matrix - матрица примеров размера (n, m), каждая строка - отдельный пример,\n",
    "        n - количество примеров, m - количество переменных.\n",
    "        Возвращает вектор значений сумматорной функции размера (n, 1).\n",
    "        \"\"\"\n",
    "        \n",
    "        return input_matrix.dot(self.w)\n",
    "    \n",
    "    def activation(self, summatory_activation):\n",
    "        \"\"\"\n",
    "        Вычисляет для каждого примера результат активационной функции,\n",
    "        получив на вход вектор значений сумматорной функций\n",
    "        summatory_activation - вектор размера (n, 1), \n",
    "        где summatory_activation[i] - значение суммматорной функции для i-го примера.\n",
    "        Возвращает вектор размера (n, 1), содержащий в i-й строке \n",
    "        значение активационной функции для i-го примера.\n",
    "        \"\"\"\n",
    "        \n",
    "        return self.activation_function(summatory_activation)\n",
    "    \n",
    "    def vectorized_forward_pass(self, input_matrix):\n",
    "        \"\"\"\n",
    "        Векторизованная активационная функция логистического нейрона.\n",
    "        input_matrix - матрица примеров размера (n, m), каждая строка - отдельный пример,\n",
    "        n - количество примеров, m - количество переменных.\n",
    "        Возвращает вертикальный вектор размера (n, 1) с выходными активациями нейрона\n",
    "        (элементы вектора - float)\n",
    "        \"\"\"\n",
    "        return self.activation(self.summatory(input_matrix))\n",
    "        \n",
    "    def SGD(self, X, y, batch_size, learning_rate=0.1, eps=1e-6, max_steps=200):\n",
    "        \"\"\"\n",
    "        Внешний цикл алгоритма градиентного спуска.\n",
    "        X - матрица входных активаций (n, m)\n",
    "        y - вектор правильных ответов (n, 1)\n",
    "        \n",
    "        learning_rate - константа скорости обучения\n",
    "        batch_size - размер батча, на основании которого \n",
    "        рассчитывается градиент и совершается один шаг алгоритма\n",
    "        \n",
    "        eps - критерий остановки номер один: если разница между значением целевой функции \n",
    "        до и после обновления весов меньше eps - алгоритм останавливается. \n",
    "        Вторым вариантом была бы проверка размера градиента, а не изменение функции,\n",
    "        что будет работать лучше - неочевидно. В заданиях используйте первый подход.\n",
    "        \n",
    "        max_steps - критерий остановки номер два: если количество обновлений весов \n",
    "        достигло max_steps, то алгоритм останавливается\n",
    "        \n",
    "        Метод возвращает 1, если отработал первый критерий остановки (спуск сошёлся) \n",
    "        и 0, если второй (спуск не достиг минимума за отведённое время).\n",
    "        \"\"\"\n",
    "        \n",
    "        res = 0\n",
    "        step = 0\n",
    "        while res != 1 and step < max_steps:\n",
    "            mini_batch = np.random.choice(len(X), batch_size, replace=False)\n",
    "            res = self.update_mini_batch(X[mini_batch], y[mini_batch], learning_rate, eps)\n",
    "            step += 1\n",
    "\n",
    "        return res\n",
    "    \n",
    "    def update_mini_batch(self, X, y, learning_rate, eps):\n",
    "        \"\"\"\n",
    "        X - матрица размера (batch_size, m)\n",
    "        y - вектор правильных ответов размера (batch_size, 1)\n",
    "        learning_rate - константа скорости обучения\n",
    "        eps - критерий остановки номер один: если разница между значением целевой функции \n",
    "        до и после обновления весов меньше eps - алгоритм останавливается. \n",
    "        \n",
    "        Рассчитывает градиент (не забывайте использовать подготовленные заранее внешние функции) \n",
    "        и обновляет веса нейрона. Если ошибка изменилась меньше, чем на eps - возвращаем 1, \n",
    "        иначе возвращаем 0.\n",
    "        \"\"\"\n",
    "        \n",
    "        J_before_weights_update = J_quadratic(self, X, y)\n",
    "        grad = compute_grad_analytically(self, X, y)\n",
    "        self.w = self.w - learning_rate * grad\n",
    "        J_after_weights_update = J_quadratic(self, X, y)\n",
    "        dJ = abs(J_before_weights_update - J_after_weights_update)\n",
    "\n",
    "        return int(dJ < eps)"
   ]
  },
  {
   "cell_type": "markdown",
   "metadata": {},
   "source": [
    "Зюк добавил, что на практике стохастический градиентный спуск обычно ограничивается не по количеству шагов алгоритма, а по количеству эпох обучения. Мы с ужасом переглянулись. Выходит, что Зюк просто не понимает, что земляне редко живут дольше ста лет... \"Зюк, - грустно сказали мы, - скорее всего, нам не удастся дождаться окончания работы алгоритма, люди столько не живут\". Зюк сперва удивился, потом рассмеялся и объяснил: эпохой обучения называют предъявление всех примеров по одному разу. Обычно батчи формируют так: входные данные перемешиваются, после этого разбиваются на кусочки по batch_size штук в каждом. После того как все примеры хотя бы раз побывали в батче, данные перемешиваются снова. Мы облегчённо вздохнули. Сейчас нам интересно понаблюдать за отдельными изменениями весов, поэтому мы ограничиваем алгоритм не эпохами, а количеством обновлений весов.\n",
    "\n",
    "Далее он показал нам код для расчета целевой функции и её градиента. Приятно было осознавать, что целевую функцию можно будет очень легко заменить, если нам захочется."
   ]
  },
  {
   "cell_type": "code",
   "execution_count": 5,
   "metadata": {
    "collapsed": true
   },
   "outputs": [],
   "source": [
    "def J_quadratic(neuron, X, y):\n",
    "    \"\"\"\n",
    "    Оценивает значение квадратичной целевой функции.\n",
    "    Всё как в лекции, никаких хитростей.\n",
    "\n",
    "    neuron - нейрон, у которого есть метод vectorized_forward_pass, предсказывающий значения на выборке X\n",
    "    X - матрица входных активаций (n, m)\n",
    "    y - вектор правильных ответов (n, 1)\n",
    "        \n",
    "    Возвращает значение J (число)\n",
    "    \"\"\"\n",
    "    \n",
    "    assert y.shape[1] == 1, 'Incorrect y shape'\n",
    "    \n",
    "    return 0.5 * np.mean((neuron.vectorized_forward_pass(X) - y) ** 2)\n",
    "\n",
    "def J_quadratic_derivative(y, y_hat):\n",
    "    \"\"\"\n",
    "    Вычисляет вектор частных производных целевой функции по каждому из предсказаний.\n",
    "    y_hat - вертикальный вектор предсказаний,\n",
    "    y - вертикальный вектор правильных ответов,\n",
    "    \n",
    "    В данном случае функция смехотворно простая, но если мы захотим поэкспериментировать \n",
    "    с целевыми функциями - полезно вынести эти вычисления в отдельный этап.\n",
    "    \n",
    "    Возвращает вектор значений производной целевой функции для каждого примера отдельно.\n",
    "    \"\"\"\n",
    "    \n",
    "    assert y_hat.shape == y.shape and y_hat.shape[1] == 1, 'Incorrect shapes'\n",
    "    \n",
    "    return (y_hat - y) / len(y)\n",
    "    \n",
    "def compute_grad_analytically(neuron, X, y, J_prime=J_quadratic_derivative):\n",
    "    \"\"\"\n",
    "    Аналитическая производная целевой функции\n",
    "    neuron - объект класса Neuron\n",
    "    X - вертикальная матрица входов формы (n, m), на которой считается сумма квадратов отклонений\n",
    "    y - правильные ответы для примеров из матрицы X\n",
    "    J_prime - функция, считающая производные целевой функции по ответам\n",
    "    \n",
    "    Возвращает вектор размера (m, 1)\n",
    "    \"\"\"\n",
    "    \n",
    "    # Вычисляем активации\n",
    "    # z - вектор результатов сумматорной функции нейрона на разных примерах\n",
    "    \n",
    "    z = neuron.summatory(X)\n",
    "    y_hat = neuron.activation(z)\n",
    "\n",
    "    # Вычисляем нужные нам частные производные\n",
    "    dy_dyhat = J_prime(y, y_hat)\n",
    "    dyhat_dz = neuron.activation_function_derivative(z)\n",
    "    \n",
    "    # осознайте эту строчку:\n",
    "    dz_dw = X\n",
    "\n",
    "    # а главное, эту:\n",
    "    grad = ((dy_dyhat * dyhat_dz).T).dot(dz_dw)\n",
    "    \n",
    "    # можно было написать в два этапа. Осознайте, почему получается одно и то же\n",
    "    # grad_matrix = dy_dyhat * dyhat_dz * dz_dw\n",
    "    # grad = np.sum(, axis=0)\n",
    "    \n",
    "    # Сделаем из горизонтального вектора вертикальный\n",
    "    grad = grad.T\n",
    "    \n",
    "    return grad"
   ]
  },
  {
   "cell_type": "markdown",
   "metadata": {},
   "source": [
    "Однако нам в голову пришла тревожная мысль.. А вдруг при расчёте градиента допущена ошибка?  \n",
    "\n",
    "Как мы говорили в лекциях, неплохо бы проверить, правильно ли мы считаем градиенты, до того, как куда-то по этим градиентам спускаться. Зюк, например, долго пытался понять, как нам удалось сделать тот градиентный спуск, что мы показывали вам в лекции под саундтрек из \"Секретных материалов\". А мы всего-то забыли одну матрицу обратить, когда производную считали.\n",
    "\n",
    "Сейчас мы проверим, правильно ли считаются производные целевой функции: мы реализуем подсчёт частных производных по определению, как $$\\frac{\\partial f}{\\partial x_i} = \\frac{f\\left(x_1,\\ldots,x_{i-1}, x_i + \\Delta x, x_{i+1}, \\ldots, x_d\\right) - f\\left(x_1,\\ldots, x_d\\right)}{\\Delta x}.$$ Это не определение, в определении был бы $\\lim _{\\Delta x\\to 0}$! Но если мы возьмём достаточно малое $\\Delta x$, то приближение будет неплохим.\n",
    "\n",
    "Иными словами, мы посчитаем целевую функцию, чуть-чуть поменяем какой-нибудь вес, после этого посчитаем целевую функцию еще раз, дальше применяем определение, то есть разделим разницу в целевой функции на изменение веса.\n",
    "\n",
    "После этого можно будет сравнить результаты, полученные с помощью аналитического и численного метода: они не должны сильно отличаться.\n",
    "\n",
    "Вы уже должны догадываться, почему мы не можем всегда обходиться только лишь численным нахождением производной, но пример, непосредственно это иллюстрирующий, появится на следующей неделе."
   ]
  },
  {
   "cell_type": "code",
   "execution_count": 6,
   "metadata": {
    "collapsed": true
   },
   "outputs": [],
   "source": [
    "def compute_grad_numerically(neuron, X, y, J=J_quadratic, eps=10e-2):\n",
    "    \"\"\"\n",
    "    Численная производная целевой функции\n",
    "    neuron - объект класса Neuron\n",
    "    X - вертикальная матрица входов формы (n, m), на которой считается сумма квадратов отклонений\n",
    "    y - правильные ответы для тестовой выборки X\n",
    "    J - целевая функция, градиент которой мы хотим получить\n",
    "    eps - размер $\\delta w$ (малого изменения весов)\n",
    "    \"\"\"\n",
    "\n",
    "    initial_cost = J(neuron, X, y)\n",
    "    w_0 = neuron.w\n",
    "    num_grad = np.zeros(w_0.shape)\n",
    "    \n",
    "    for i in range(len(w_0)):\n",
    "        \n",
    "        old_wi = neuron.w[i].copy()\n",
    "        # Меняем вес\n",
    "        neuron.w[i] += eps\n",
    "        \n",
    "        # Считаем новое значение целевой функции и вычисляем приближенное значение градиента\n",
    "        num_grad[i] = (J(neuron, X, y) - initial_cost)/eps\n",
    "        \n",
    "        # Возвращаем вес обратно. Лучше так, чем -= eps, чтобы не накапливать ошибки округления\n",
    "        neuron.w[i] = old_wi\n",
    "            \n",
    "    # проверим, что не испортили нейрону веса своими манипуляциями\n",
    "    assert np.allclose(neuron.w, w_0), \"МЫ ИСПОРТИЛИ НЕЙРОНУ ВЕСА\"\n",
    "    return num_grad"
   ]
  },
  {
   "cell_type": "markdown",
   "metadata": {},
   "source": [
    "Давайте посмотрим, что у нас получилось:"
   ]
  },
  {
   "cell_type": "code",
   "execution_count": 7,
   "metadata": {},
   "outputs": [
    {
     "name": "stdout",
     "output_type": "stream",
     "text": [
      "Численный градиент: \n",
      " [[ 0.03078173]\n",
      " [ 0.00565029]\n",
      " [ 0.0265999 ]]\n",
      "Аналитический градиент: \n",
      " [[ 0.03004891]\n",
      " [ 0.00500737]\n",
      " [ 0.0269476 ]]\n"
     ]
    }
   ],
   "source": [
    "# Подготовим данные\n",
    "\n",
    "X = data[:, :-1]\n",
    "y = data[:, -1]\n",
    "\n",
    "X = np.hstack((np.ones((len(y), 1)), X))\n",
    "y = y.reshape((len(y), 1)) # Обратите внимание на эту очень противную и важную строчку\n",
    "\n",
    "\n",
    "# Создадим нейрон\n",
    "\n",
    "w = np.random.random((X.shape[1], 1))\n",
    "neuron = Neuron(w, activation_function=sigmoid, activation_function_derivative=sigmoid_prime)\n",
    "\n",
    "# Посчитаем пример\n",
    "num_grad = compute_grad_numerically(neuron, X, y, J=J_quadratic)\n",
    "an_grad = compute_grad_analytically(neuron, X, y, J_prime=J_quadratic_derivative)\n",
    "\n",
    "print(\"Численный градиент: \\n\", num_grad)\n",
    "print(\"Аналитический градиент: \\n\", an_grad)"
   ]
  },
  {
   "cell_type": "markdown",
   "metadata": {},
   "source": [
    "\"Вроде бы похоже\", но это не очень удовлетворительный ответ. Давайте посмотрим, как меняется наше приближение в зависимости от $\\varepsilon$. Посчитаем для разных $\\varepsilon$ модуль разности этих двух градиентов."
   ]
  },
  {
   "cell_type": "code",
   "execution_count": 9,
   "metadata": {},
   "outputs": [
    {
     "data": {
      "text/plain": [
       "A Jupyter Widget"
      ]
     },
     "metadata": {},
     "output_type": "display_data"
    }
   ],
   "source": [
    "def print_grad_diff(eps):\n",
    "    num_grad = compute_grad_numerically(neuron, X, y, J=J_quadratic, eps=float(eps))\n",
    "    an_grad = compute_grad_analytically(neuron, X, y, J_prime=J_quadratic_derivative)\n",
    "    print(np.linalg.norm(num_grad-an_grad))\n",
    "    \n",
    "interact(print_grad_diff, \n",
    "            eps=RadioButtons(options=[\"3\", \"1\", \"0.1\", \"0.001\", \"0.0001\"]), separator=\" \");"
   ]
  },
  {
   "cell_type": "markdown",
   "metadata": {},
   "source": [
    "Неплохо, но можно лучше, причем с минимумом усилий.\n",
    "Давайте вместо того, чтобы считать $\\frac{f(x) - f(x + \\Delta x)}{\\Delta x}$, посмотрим на $\\frac{f(x  + \\Delta x) - f(x - \\Delta x)}{2 \\Delta x}$, то есть шагнём в обе стороны. Говорят, что на практике этот метод работает лучше.\n",
    "\n",
    "Реализуйте функцию compute_grad_numerically_2, чтобы проверить, слухи это или нет."
   ]
  },
  {
   "cell_type": "code",
   "execution_count": 16,
   "metadata": {
    "collapsed": true
   },
   "outputs": [],
   "source": [
    "def compute_grad_numerically_2(neuron, X, y, J=J_quadratic, eps=10e-2):\n",
    "    \"\"\"\n",
    "    Численная производная целевой функции.\n",
    "    neuron - объект класса Neuron с вертикальным вектором весов w,\n",
    "    X - вертикальная матрица входов формы (n, m), на которой считается сумма квадратов отклонений,\n",
    "    y - правильные ответы для тестовой выборки X,\n",
    "    J - целевая функция, градиент которой мы хотим получить,\n",
    "    eps - размер $\\delta w$ (малого изменения весов).\n",
    "    \"\"\"\n",
    "    \n",
    "    w_0 = neuron.w\n",
    "    num_grad = np.zeros(w_0.shape)\n",
    "\n",
    "    for i in range(len(w_0)):\n",
    "        old_wi = neuron.w[i].copy()\n",
    "        # Меняем вес\n",
    "        neuron.w[i] += eps\n",
    "\n",
    "        # Считаем новое значение целевой функции f(x+dx)\n",
    "        pos_cost = J(neuron, X, y)\n",
    "\n",
    "        # Возвращаем вес обратно. Лучше так, чем -= eps, чтобы не накапливать ошибки округления\n",
    "        neuron.w[i] = old_wi\n",
    "\n",
    "        # снова меняем вес\n",
    "        neuron.w[i] -= eps\n",
    "\n",
    "        # Считаем новое значение целевой функции f(x-dx)\n",
    "        neg_cost = J(neuron, X, y)\n",
    "\n",
    "        # вычисляем приближенное значение градиента f(x+dx)-f(x-dx)/2dx\n",
    "        num_grad[i] = (pos_cost - neg_cost) / (2 * eps)\n",
    "\n",
    "        # Возвращаем вес обратно\n",
    "        neuron.w[i] = old_wi\n",
    "\n",
    "\n",
    "    # проверим, что не испортили нейрону веса своими манипуляциями\n",
    "    assert np.allclose(neuron.w, w_0), \"МЫ ИСПОРТИЛИ НЕЙРОНУ ВЕСА\"\n",
    "\n",
    "    return num_grad"
   ]
  },
  {
   "cell_type": "markdown",
   "metadata": {},
   "source": [
    "Давайте посмотрим, к какому результату привели ваши эксперименты:"
   ]
  },
  {
   "cell_type": "code",
   "execution_count": 18,
   "metadata": {},
   "outputs": [
    {
     "data": {
      "text/plain": [
       "A Jupyter Widget"
      ]
     },
     "metadata": {},
     "output_type": "display_data"
    }
   ],
   "source": [
    "def print_grad_diff_2(eps):\n",
    "    num_grad = compute_grad_numerically_2(neuron, X, y, J=J_quadratic, eps=float(eps))\n",
    "    an_grad = compute_grad_analytically(neuron, X, y, J_prime=J_quadratic_derivative)\n",
    "    print(np.linalg.norm(num_grad-an_grad))\n",
    "    \n",
    "interact(print_grad_diff_2, \n",
    "            eps=RadioButtons(options=[\"3\", \"1\", \"0.1\", \"0.001\", \"0.0001\"]), separator=\" \");"
   ]
  },
  {
   "cell_type": "markdown",
   "metadata": {},
   "source": [
    "Перед нами тот редкий случай, когда фраза **\"на порядок лучше\"** - очевидное преуменьшение!"
   ]
  },
  {
   "cell_type": "markdown",
   "metadata": {},
   "source": [
    "## Визуализация"
   ]
  },
  {
   "cell_type": "markdown",
   "metadata": {},
   "source": [
    "Мы сидели, уставшие, но довольные проделанной работой, как вдруг Зюк оживлённо воскликнул:\n",
    "\n",
    "-- У нас ведь всего два входа! \n",
    "\n",
    "-- И что? - удивлённо спросили мы. \n",
    "\n",
    "-- А то, что если мы зафиксируем значение смещения, то можем полноценно визуализировать целевую функцию. Неужели вам не хочется посмотреть, как она выглядит в этой задачке? А еще.. А еще давайте добавим возможность перемешивать и сдвигать данные! Как вам такая идея?\n",
    "\n",
    "Не дождавшись ответа, Зюк начал программировать. Он выглядел очень возбуждённым."
   ]
  },
  {
   "cell_type": "code",
   "execution_count": 19,
   "metadata": {
    "collapsed": true
   },
   "outputs": [],
   "source": [
    "def J_by_weights(weights, X, y, bias):\n",
    "    \"\"\"\n",
    "    Посчитать значение целевой функции для нейрона с заданными весами.\n",
    "    Только для визуализации\n",
    "    \"\"\"\n",
    "    new_w = np.hstack((bias, weights)).reshape((3,1))\n",
    "    return J_quadratic(Neuron(new_w), X, y)"
   ]
  },
  {
   "cell_type": "code",
   "execution_count": 21,
   "metadata": {},
   "outputs": [
    {
     "data": {
      "text/plain": [
       "A Jupyter Widget"
      ]
     },
     "metadata": {},
     "output_type": "display_data"
    }
   ],
   "source": [
    "%matplotlib inline\n",
    "\n",
    "max_b = 40\n",
    "min_b = -40\n",
    "max_w1 = 40\n",
    "min_w1 = -40\n",
    "max_w2 = 40\n",
    "min_w2 = -40\n",
    "\n",
    "g_bias = 0 # график номер 2 будет при первой генерации по умолчанию иметь то значение b, которое выставлено в первом\n",
    "X_corrupted = X.copy()\n",
    "y_corrupted = y.copy()\n",
    "\n",
    "@interact(fixed_bias=FloatSlider(min=min_b, max=max_b, continuous_update=False), \n",
    "          mixing=FloatSlider(min=0, max=1, continuous_update=False, value=0),\n",
    "          shifting=FloatSlider(min=0, max=1, continuous_update=False, value=0)\n",
    "            )\n",
    "def visualize_cost_function(fixed_bias, mixing, shifting):\n",
    "    \"\"\"\n",
    "    Визуализируем поверхность целевой функции на (опционально) подпорченных данных и сами данные.\n",
    "    Портим данные мы следующим образом: сдвигаем категории навстречу друг другу, на величину, равную shifting \n",
    "    Кроме того, меняем классы некоторых случайно выбранных примеров на противоположнее.\n",
    "    Доля таких примеров задаётся переменной mixing\n",
    "    \n",
    "    Нам нужно зафиксировать bias на определённом значении, чтобы мы могли что-нибудь визуализировать.\n",
    "    Можно посмотреть, как bias влияет на форму целевой функции\n",
    "    \"\"\"\n",
    "    xlim = (min_w1, max_w1)\n",
    "    ylim = (min_w2, max_w2)\n",
    "    xx = np.linspace(*xlim, num=101)\n",
    "    yy = np.linspace(*ylim, num=101)\n",
    "    xx, yy = np.meshgrid(xx, yy)\n",
    "    points = np.stack([xx, yy], axis=2)\n",
    "    \n",
    "    # не будем портить исходные данные, будем портить их копию\n",
    "    corrupted = data.copy()\n",
    "    \n",
    "    # инвертируем ответы для случайно выбранного поднабора данных\n",
    "    mixed_subset = np.random.choice(range(len(corrupted)), int(mixing * len(corrupted)), replace=False)\n",
    "    corrupted[mixed_subset, -1] = np.logical_not(corrupted[mixed_subset, -1])\n",
    "    \n",
    "    # сдвинем все груши (внизу справа) на shifting наверх и влево\n",
    "    pears = corrupted[:, 2] == 1\n",
    "    apples = np.logical_not(pears)\n",
    "    corrupted[pears, 0] -= shifting\n",
    "    corrupted[pears, 1] += shifting\n",
    "    \n",
    "    # вытащим наружу испорченные данные\n",
    "    global X_corrupted, y_corrupted\n",
    "    X_corrupted = np.hstack((np.ones((len(corrupted),1)), corrupted[:, :-1]))\n",
    "    y_corrupted = corrupted[:, -1].reshape((len(corrupted), 1))\n",
    "    \n",
    "    # посчитаем значения целевой функции на наших новых данных\n",
    "    calculate_weights = partial(J_by_weights, X=X_corrupted, y=y_corrupted, bias=fixed_bias)\n",
    "    J_values = np.apply_along_axis(calculate_weights, -1, points)\n",
    "    \n",
    "    fig = plt.figure(figsize=(16,5))\n",
    "    # сначала 3D-график целевой функции\n",
    "    ax_1 = fig.add_subplot(1, 2, 1, projection='3d')\n",
    "    surf = ax_1.plot_surface(xx, yy, J_values, alpha=0.3)\n",
    "    ax_1.set_xlabel(\"$w_1$\")\n",
    "    ax_1.set_ylabel(\"$w_2$\")\n",
    "    ax_1.set_zlabel(\"$J(w_1, w_2)$\")\n",
    "    ax_1.set_title(\"$J(w_1, w_2)$ for fixed bias = ${}$\".format(fixed_bias))\n",
    "    # потом плоский поточечный график повреждённых данных\n",
    "    ax_2 = fig.add_subplot(1, 2, 2)\n",
    "    plt.scatter(corrupted[apples][:, 0], corrupted[apples][:, 1], color = \"red\", alpha=0.7)\n",
    "    plt.scatter(corrupted[pears][:, 0], corrupted[pears][:, 1], color = \"green\", alpha=0.7)\n",
    "    ax_2.set_xlabel(\"yellowness\")\n",
    "    ax_2.set_ylabel(\"symmetry\")\n",
    "\n",
    "    plt.show()"
   ]
  },
  {
   "cell_type": "markdown",
   "metadata": {},
   "source": [
    "Мы с интересом рассматривали результат. По форме функции становилось понятно, что градиентный спуск будет обычно попадать в ловушку. На графике видна огромная яма, прижимающаяся своим дном к нулю. \n",
    "\n",
    "Это происходит от того, что данные линейно разделимы, и мы всегда можем увеличить хорошие веса, получив еще более хорошие (подумайте, почему это так).\n",
    "\n",
    "Еще страшнее выглядят плоские участки. Как вы думаете, застрянем мы не них или нет?"
   ]
  },
  {
   "cell_type": "markdown",
   "metadata": {},
   "source": [
    "Следующим графиком Зюк особенно нас порадовал. Можно было выбрать точку и bias, откуда мы хотим начать градиентный спуск, после чего его программа генерировала \"историю обучения\" (learning curve) - график значений целевой функции после очередного обновления весов. \n",
    "\n",
    "Смотря на поверхность целевой функции мы старались предсказать, к каким весам мы придём, если начнём спуск с той или иной точки. Оказалось что всё не так очевидно, как мы думали.\n",
    "\n",
    "На графике ниже видно, что при \"хорошем\" раскладе (мы попали в большую яму) значение целевой функции всё время уменьшалось (хоть и по чуть-чуть), пока мы не достигали порога по количеству итераций. При плохом мы могли просто застрять в локальном минимуме или выйти на плато. \n",
    "\n",
    "\\\\\\\\ Как можно бороться с подобными ловушками мы поговорим на третьей и четвёртой неделях.\n",
    "\n",
    "***Если в предыдущем задании вы \"подпортили\" данные - график будет строиться именно для подпорченных =)***"
   ]
  },
  {
   "cell_type": "code",
   "execution_count": 23,
   "metadata": {},
   "outputs": [
    {
     "data": {
      "text/plain": [
       "A Jupyter Widget"
      ]
     },
     "metadata": {},
     "output_type": "display_data"
    }
   ],
   "source": [
    "@interact(b=BoundedFloatText(value=str(g_bias), min=min_b, max=max_b, description=\"Enter $b$:\"),\n",
    "          w1=BoundedFloatText(value=\"0\", min=min_w1, max=max_w1, description=\"Enter $w_1$:\"),\n",
    "          w2=BoundedFloatText(value=\"0\", min=min_w2, max=max_w2, description=\"Enter $w_2$:\"),\n",
    "          learning_rate=Dropdown(options=[\"0.01\", \"0.05\", \"0.1\", \"0.5\", \"1\", \"5\", \"10\"], \n",
    "                                value=\"0.01\", description=\"Learning rate: \")\n",
    "         )\n",
    "def learning_curve_for_starting_point(b, w1, w2, learning_rate=0.1):\n",
    "    w = np.array([b, w1, w2]).reshape(X_corrupted.shape[1], 1)\n",
    "    learning_rate=float(learning_rate)\n",
    "    neuron = Neuron(w, activation_function=sigmoid, activation_function_derivative=sigmoid_prime)\n",
    "\n",
    "    story = [J_quadratic(neuron, X_corrupted, y_corrupted)]\n",
    "    for _ in range(2000):\n",
    "        neuron.SGD(X_corrupted, y_corrupted, 2, learning_rate=learning_rate, max_steps=2)\n",
    "        story.append(J_quadratic(neuron, X_corrupted, y_corrupted))\n",
    "    plt.plot(story)\n",
    "    \n",
    "    plt.title(\"Learning curve.\\n Final $b={0:.3f}$, $w_1={1:.3f}, w_2={2:.3f}$\".format(*neuron.w.ravel()))\n",
    "    plt.ylabel(\"$J(w_1, w_2)$\")\n",
    "    plt.xlabel(\"Weight and bias update number\")\n",
    "    plt.show()"
   ]
  },
  {
   "cell_type": "markdown",
   "metadata": {},
   "source": [
    "Близился вечер, и мы решили, что на сегодня уже утолили жажду программирования и познания. \n",
    "Даже Зюк выглядел немного утомлённым, насколько можно было судить по его инопланетной мимике.\n",
    "Он пообещал, что в следующий раз мы сможем сделать настоящую нейросеть, и мы отправились спать,\n",
    "думая о предстоящей встрече.\n",
    "\n",
    "Однако, не все. Кто-то из наших так увлёкся, что уже сейчас, не дожидаясь следующей встречи, отправился заменять целевые и активационные функции нейронов, наблюдая, как это отразится на результатах.\n"
   ]
  }
 ],
 "metadata": {
  "kernelspec": {
   "display_name": "Python 3",
   "language": "python",
   "name": "python3"
  },
  "language_info": {
   "codemirror_mode": {
    "name": "ipython",
    "version": 3
   },
   "file_extension": ".py",
   "mimetype": "text/x-python",
   "name": "python",
   "nbconvert_exporter": "python",
   "pygments_lexer": "ipython3",
   "version": "3.6.3"
  }
 },
 "nbformat": 4,
 "nbformat_minor": 1
}
